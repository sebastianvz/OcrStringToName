{
 "cells": [
  {
   "cell_type": "code",
   "execution_count": null,
   "metadata": {},
   "outputs": [],
   "source": [
    "import requests\n",
    "import pandas as pd\n",
    "\n",
    "url = 'http://cubiq.mekagroupcol.com/externalapi/getMeasure'\n",
    "body = {'limit': '1'}\n",
    "response = requests.post(url, data = body, headers = {\"auth\": \"CcKAtnb8hI5cSHr86SvXRXDF6cPyYrKf5PnGRi8x6Pg\"})\n",
    "mesarure_ocr= response.json()\n",
    "display(len(mesarure_ocr), mesarure_ocr , type(mesarure_ocr))"
   ]
  },
  {
   "cell_type": "code",
   "execution_count": null,
   "metadata": {},
   "outputs": [],
   "source": [
    "url = 'http://cubiq.mekagroupcol.com/api/getNamesOcrActive'\n",
    "response = requests.get(url, headers = {\"auth\": \"CcKAtnb8hI5cSHr86SvXRXDF6cPyYrKf5PnGRi8x6Pg\"})\n",
    "names= response.json()\n",
    "display(len(names), names , type(names))"
   ]
  },
  {
   "cell_type": "code",
   "execution_count": null,
   "metadata": {},
   "outputs": [],
   "source": [
    "url = 'http://cubiq.mekagroupcol.com/api/getAllNamesOcr'\n",
    "response = requests.get(url, headers = {\"auth\": \"CcKAtnb8hI5cSHr86SvXRXDF6cPyYrKf5PnGRi8x6Pg\"})\n",
    "names1= response.json()\n",
    "display(len(names1), names1 , type(names1))"
   ]
  },
  {
   "cell_type": "code",
   "execution_count": null,
   "metadata": {},
   "outputs": [],
   "source": [
    "df_names = pd.DataFrame(names)\n",
    "df_names"
   ]
  },
  {
   "cell_type": "code",
   "execution_count": null,
   "metadata": {},
   "outputs": [],
   "source": [
    "df = pd.DataFrame.from_dict(mesarure_ocr['measures'])\n",
    "df['ocr'].count()\n",
    "display(df['ocr'].count(),df)"
   ]
  },
  {
   "cell_type": "code",
   "execution_count": null,
   "metadata": {},
   "outputs": [],
   "source": [
    "#del df[\"resource_code\"]\n",
    "#del df[\"shipping_total_units\"]\n",
    "#del df[\"shipping_weight\"]"
   ]
  },
  {
   "cell_type": "code",
   "execution_count": null,
   "metadata": {},
   "outputs": [],
   "source": [
    "colums = df[['ocr','ocr_picture']]\n",
    "new_df = colums.copy()\n",
    "new_df = new_df.dropna()\n",
    "del new_df[\"ocr_picture\"]\n",
    "new_df.reset_index(inplace=True, drop=True)\n",
    "new_df "
   ]
  },
  {
   "cell_type": "code",
   "execution_count": null,
   "metadata": {},
   "outputs": [],
   "source": [
    "new_df['ocr'][34]"
   ]
  },
  {
   "cell_type": "code",
   "execution_count": null,
   "metadata": {
    "scrolled": true
   },
   "outputs": [],
   "source": [
    "#pip install texthero"
   ]
  },
  {
   "cell_type": "code",
   "execution_count": null,
   "metadata": {},
   "outputs": [],
   "source": [
    "import texthero as hero\n",
    "from texthero import preprocessing\n",
    "\n",
    "custom_pipeline = [preprocessing.fillna,\n",
    "                   preprocessing.remove_digits,\n",
    "                   preprocessing.remove_punctuation,\n",
    "                   preprocessing.remove_diacritics,\n",
    "                   preprocessing.remove_stopwords,\n",
    "                   preprocessing.remove_whitespace]\n",
    "\n",
    "new_df['clean_ocr_name'] = hero.clean(new_df['ocr'])\n",
    "new_df"
   ]
  },
  {
   "cell_type": "code",
   "execution_count": null,
   "metadata": {},
   "outputs": [],
   "source": [
    "new_df['clean_ocr_name'][0]"
   ]
  },
  {
   "cell_type": "code",
   "execution_count": null,
   "metadata": {},
   "outputs": [],
   "source": [
    "def identify(txt):\n",
    "  found = []\n",
    "  for word in txt.split(\" \"):\n",
    "    flag = df_names[df_names[\"name\"]== word]\n",
    "    if len(flag) >0:\n",
    "      found.append(word)\n",
    "  if (len(found) > 0 ):\n",
    "    return found\n",
    "  else : return \"N/A\""
   ]
  },
  {
   "cell_type": "code",
   "execution_count": null,
   "metadata": {},
   "outputs": [],
   "source": [
    "display(new_df['clean_ocr_name'][45])\n",
    "display(new_df['ocr'][45])"
   ]
  },
  {
   "cell_type": "code",
   "execution_count": null,
   "metadata": {},
   "outputs": [],
   "source": [
    "%time identify1 = identify(new_df['clean_ocr_name'][45])"
   ]
  },
  {
   "cell_type": "code",
   "execution_count": null,
   "metadata": {},
   "outputs": [],
   "source": [
    "identify1"
   ]
  },
  {
   "cell_type": "code",
   "execution_count": null,
   "metadata": {},
   "outputs": [],
   "source": [
    "len(flag)"
   ]
  },
  {
   "cell_type": "code",
   "execution_count": null,
   "metadata": {},
   "outputs": [],
   "source": []
  },
  {
   "cell_type": "code",
   "execution_count": null,
   "metadata": {},
   "outputs": [],
   "source": []
  },
  {
   "cell_type": "code",
   "execution_count": null,
   "metadata": {},
   "outputs": [],
   "source": []
  },
  {
   "cell_type": "code",
   "execution_count": null,
   "metadata": {},
   "outputs": [],
   "source": []
  },
  {
   "cell_type": "code",
   "execution_count": null,
   "metadata": {},
   "outputs": [],
   "source": []
  }
 ],
 "metadata": {
  "kernelspec": {
   "display_name": "Python 3",
   "language": "python",
   "name": "python3"
  },
  "language_info": {
   "codemirror_mode": {
    "name": "ipython",
    "version": 3
   },
   "file_extension": ".py",
   "mimetype": "text/x-python",
   "name": "python",
   "nbconvert_exporter": "python",
   "pygments_lexer": "ipython3",
   "version": "3.8.3"
  }
 },
 "nbformat": 4,
 "nbformat_minor": 4
}
